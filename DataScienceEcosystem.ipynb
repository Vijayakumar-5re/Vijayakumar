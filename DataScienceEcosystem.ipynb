{
 "cells": [
  {
   "cell_type": "markdown",
   "id": "8189f70f-8ba6-4b5c-a548-22bf9b6d6d11",
   "metadata": {
    "tags": []
   },
   "source": [
    "# Data Science Tools and Ecosystem"
   ]
  },
  {
   "cell_type": "markdown",
   "id": "7089da33-e1ae-4409-ad6f-7d0502dc1052",
   "metadata": {},
   "source": [
    "## In this notebook, Data Science Tools and Ecosystem are summarized."
   ]
  },
  {
   "cell_type": "markdown",
   "id": "c4123707-ed73-400a-86a8-015a1322783e",
   "metadata": {},
   "source": [
    "## Objectives:\n",
    "\n",
    "- Explore and summarize Data Science Tools and Ecosystem.\n",
    "- Understand basic arithmetic expression examples in Python.\n",
    "- List popular languages for Data Science.\n",
    "- Introduce key development environment open source tools.\n",
    "- Demonstrate conversion of minutes to hours in Python.\n"
   ]
  },
  {
   "cell_type": "markdown",
   "id": "a041f255-a7e1-4035-adb4-6aa5a818cbdc",
   "metadata": {},
   "source": [
    "## Some of the popular languages that Data Scientists use are:\n",
    " - Python\n",
    " - R\n",
    " - Julia"
   ]
  },
  {
   "cell_type": "markdown",
   "id": "6e42a5e5-9dea-4319-8082-ce8880bbba5f",
   "metadata": {},
   "source": [
    "## Some of the commonly used libraries used by Data Scientists include:\n",
    " - NumPy\n",
    " - Pandas\n",
    " - Matplotlib\n",
    " - Seaborn"
   ]
  },
  {
   "cell_type": "markdown",
   "id": "9ee2812d-3e56-4e31-8ff7-62cdce2e0cb2",
   "metadata": {},
   "source": [
    "## Data Science Tools\n",
    "\n",
    " | Data Science Tools          |\n",
    " |-----------------------------|\n",
    " | Jupyter Notebooks           |\n",
    " | RStudio                     |\n",
    " | Visual Studio Code (VSCode) |"
   ]
  },
  {
   "cell_type": "markdown",
   "id": "cb77e272-9468-4c83-acdd-37ed902a2d9a",
   "metadata": {},
   "source": [
    "### Arithmetic Expression Examples\n",
    "\n",
    "Below are a few examples of evaluating arithmetic expressions in Python."
   ]
  },
  {
   "cell_type": "code",
   "execution_count": 23,
   "id": "a31fbb92-5925-42e4-a25f-70c26b5fb9f7",
   "metadata": {
    "tags": []
   },
   "outputs": [
    {
     "name": "stdout",
     "output_type": "stream",
     "text": [
      "17\n"
     ]
    }
   ],
   "source": [
    "# This is a simple arithmetic expression to multiply then add integers.\n",
    "result = (3 * 4) + 5\n",
    "print(result)"
   ]
  },
  {
   "cell_type": "code",
   "execution_count": 26,
   "id": "9f9503aa-813c-4ce2-9d12-7ee0ba442c8f",
   "metadata": {
    "tags": []
   },
   "outputs": [
    {
     "name": "stdout",
     "output_type": "stream",
     "text": [
      "200 minutes is equal to 3.3333333333333335 hours.\n"
     ]
    }
   ],
   "source": [
    "# This will convert 200 minutes to hours by dividing by 60.\n",
    "minutes = 200\n",
    "hours = minutes / 60\n",
    "print(f\"{minutes} minutes is equal to {hours} hours.\")"
   ]
  },
  {
   "cell_type": "markdown",
   "id": "d00dcdc1-53da-4494-a10c-4fe35358e8f6",
   "metadata": {},
   "source": [
    "## Author\n",
    "\n",
    "vijayakumar A\n"
   ]
  },
  {
   "cell_type": "code",
   "execution_count": null,
   "id": "eeea5164-cbeb-4fd5-9ee0-1d3c0dd7ffe4",
   "metadata": {},
   "outputs": [],
   "source": []
  }
 ],
 "metadata": {
  "kernelspec": {
   "display_name": "Python",
   "language": "python",
   "name": "conda-env-python-py"
  },
  "language_info": {
   "codemirror_mode": {
    "name": "ipython",
    "version": 3
   },
   "file_extension": ".py",
   "mimetype": "text/x-python",
   "name": "python",
   "nbconvert_exporter": "python",
   "pygments_lexer": "ipython3",
   "version": "3.7.12"
  }
 },
 "nbformat": 4,
 "nbformat_minor": 5
}
